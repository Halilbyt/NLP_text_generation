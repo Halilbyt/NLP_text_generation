{
 "cells": [
  {
   "cell_type": "code",
   "execution_count": 2,
   "id": "f75bb603",
   "metadata": {},
   "outputs": [],
   "source": [
    "import numpy as np\n",
    "import matplotlib.pyplot as plt\n",
    "import pandas as pd\n",
    "import seaborn as sns\n",
    "import tensorflow as tf"
   ]
  },
  {
   "cell_type": "markdown",
   "id": "c567a4db",
   "metadata": {},
   "source": [
    "### Exploring Data"
   ]
  },
  {
   "cell_type": "code",
   "execution_count": 3,
   "id": "346d02fc",
   "metadata": {},
   "outputs": [],
   "source": [
    "file_path = 'melville-moby_dick.txt'"
   ]
  },
  {
   "cell_type": "code",
   "execution_count": 5,
   "id": "dd124d4b",
   "metadata": {},
   "outputs": [],
   "source": [
    "\n",
    "with open(file_path,'r') as f:\n",
    "        text = f.read()\n",
    "    "
   ]
  },
  {
   "cell_type": "code",
   "execution_count": 8,
   "id": "fa670d74",
   "metadata": {},
   "outputs": [
    {
     "data": {
      "text/plain": [
       "1198622"
      ]
     },
     "execution_count": 8,
     "metadata": {},
     "output_type": "execute_result"
    }
   ],
   "source": [
    "len(text)"
   ]
  },
  {
   "cell_type": "code",
   "execution_count": 11,
   "id": "1dbb88e8",
   "metadata": {},
   "outputs": [
    {
     "name": "stdout",
     "output_type": "stream",
     "text": [
      "ound by\n",
      "wharves as Indian isles by coral reefs--commerce surrounds it with\n",
      "her surf.  Right and left, the streets take you waterward.  Its\n",
      "extreme downtown is the battery, where that noble mole is washed by\n",
      "waves, and cooled by breezes, which a few hours previous were out of\n",
      "sight of land.  Look at the crowds of water-gazers there.\n",
      "\n",
      "Circumambulate the city of a dreamy Sabbath afternoon.  Go from\n",
      "Corlears Hook to Coenties Slip, and from thence, by Whitehall,\n",
      "northward.  What do you see?--Posted like silent sentinels all around\n",
      "the town, stand thousands upon thousands of mortal men fixed in ocean\n",
      "reveries.  Some leaning against the spiles; some seated upon the\n",
      "pier-heads; some looking over the bulwarks of ships from China; some\n",
      "high aloft in the rigging, as if striving to get a still better\n",
      "\n"
     ]
    }
   ],
   "source": [
    "print(text[1200:2000])"
   ]
  },
  {
   "cell_type": "code",
   "execution_count": 13,
   "id": "fefb9f1b",
   "metadata": {},
   "outputs": [
    {
     "data": {
      "text/plain": [
       "['\\n',\n",
       " ' ',\n",
       " '!',\n",
       " '\"',\n",
       " '$',\n",
       " '&',\n",
       " \"'\",\n",
       " '(',\n",
       " ')',\n",
       " '*',\n",
       " ',',\n",
       " '-',\n",
       " '.',\n",
       " '0',\n",
       " '1',\n",
       " '2',\n",
       " '3',\n",
       " '4',\n",
       " '5',\n",
       " '6',\n",
       " '7',\n",
       " '8',\n",
       " '9',\n",
       " ':',\n",
       " ';',\n",
       " '?',\n",
       " 'A',\n",
       " 'B',\n",
       " 'C',\n",
       " 'D',\n",
       " 'E',\n",
       " 'F',\n",
       " 'G',\n",
       " 'H',\n",
       " 'I',\n",
       " 'J',\n",
       " 'K',\n",
       " 'L',\n",
       " 'M',\n",
       " 'N',\n",
       " 'O',\n",
       " 'P',\n",
       " 'Q',\n",
       " 'R',\n",
       " 'S',\n",
       " 'T',\n",
       " 'U',\n",
       " 'V',\n",
       " 'W',\n",
       " 'X',\n",
       " 'Y',\n",
       " 'Z',\n",
       " '[',\n",
       " ']',\n",
       " '_',\n",
       " 'a',\n",
       " 'b',\n",
       " 'c',\n",
       " 'd',\n",
       " 'e',\n",
       " 'f',\n",
       " 'g',\n",
       " 'h',\n",
       " 'i',\n",
       " 'j',\n",
       " 'k',\n",
       " 'l',\n",
       " 'm',\n",
       " 'n',\n",
       " 'o',\n",
       " 'p',\n",
       " 'q',\n",
       " 'r',\n",
       " 's',\n",
       " 't',\n",
       " 'u',\n",
       " 'v',\n",
       " 'w',\n",
       " 'x',\n",
       " 'y',\n",
       " 'z']"
      ]
     },
     "execution_count": 13,
     "metadata": {},
     "output_type": "execute_result"
    }
   ],
   "source": [
    "unique_char = sorted(set(text))\n",
    "unique_char"
   ]
  },
  {
   "cell_type": "code",
   "execution_count": 14,
   "id": "987f616b",
   "metadata": {},
   "outputs": [
    {
     "data": {
      "text/plain": [
       "81"
      ]
     },
     "execution_count": 14,
     "metadata": {},
     "output_type": "execute_result"
    }
   ],
   "source": [
    "len(unique_char)"
   ]
  },
  {
   "cell_type": "code",
   "execution_count": 15,
   "id": "77773e71",
   "metadata": {},
   "outputs": [],
   "source": [
    "char_to_index = {char:index for index,char in enumerate(unique_char)}"
   ]
  },
  {
   "cell_type": "code",
   "execution_count": 29,
   "id": "682dc38e",
   "metadata": {},
   "outputs": [
    {
     "data": {
      "text/plain": [
       "49"
      ]
     },
     "execution_count": 29,
     "metadata": {},
     "output_type": "execute_result"
    }
   ],
   "source": [
    "char_to_index['X']"
   ]
  },
  {
   "cell_type": "code",
   "execution_count": 19,
   "id": "7b76b8a4",
   "metadata": {},
   "outputs": [],
   "source": [
    "# converting dict to np array\n",
    "index_to_char = np.array(unique_char)"
   ]
  },
  {
   "cell_type": "code",
   "execution_count": 21,
   "id": "dddea0a8",
   "metadata": {},
   "outputs": [
    {
     "data": {
      "text/plain": [
       "'X'"
      ]
     },
     "execution_count": 21,
     "metadata": {},
     "output_type": "execute_result"
    }
   ],
   "source": [
    "index_to_char[49]"
   ]
  },
  {
   "cell_type": "code",
   "execution_count": 22,
   "id": "3bcdefad",
   "metadata": {},
   "outputs": [],
   "source": [
    "# encoding all the text \n",
    "encoded_text = np.array([char_to_index[i] for i in text])"
   ]
  },
  {
   "cell_type": "code",
   "execution_count": 25,
   "id": "fe397317",
   "metadata": {},
   "outputs": [
    {
     "data": {
      "text/plain": [
       "array([28, 33, 26, 41, 45, 30, 43,  1, 14,  0,  0, 37, 69, 69, 67, 63, 68,\n",
       "       61, 73, 12,  0,  0,  0, 28, 55, 66, 66,  1, 67, 59,  1, 34, 73, 62,\n",
       "       67, 55, 59, 66, 12,  1,  1, 44, 69, 67, 59,  1, 79, 59, 55, 72, 73,\n",
       "        1, 55, 61, 69, 11, 11, 68, 59, 76, 59, 72,  1, 67, 63, 68, 58,  1,\n",
       "       62, 69, 77,  1, 66, 69, 68, 61,  0, 70, 72, 59, 57, 63, 73, 59, 66,\n",
       "       79, 11, 11, 62, 55, 76, 63, 68, 61,  1, 66, 63, 74, 74, 66, 59,  1,\n",
       "       69, 72,  1, 68, 69,  1, 67, 69, 68, 59, 79,  1, 63, 68,  1, 67, 79,\n",
       "        1, 70, 75, 72, 73, 59, 10,  1, 55, 68, 58,  1, 68, 69, 74, 62, 63,\n",
       "       68, 61,  0, 70, 55, 72, 74, 63, 57, 75, 66, 55, 72,  1, 74, 69,  1,\n",
       "       63, 68, 74, 59, 72, 59, 73, 74,  1, 67, 59,  1, 69, 68,  1, 73, 62,\n",
       "       69, 72, 59, 10,  1, 34,  1, 74, 62, 69, 75, 61, 62, 74,  1, 34,  1,\n",
       "       77, 69, 75, 66, 58,  1, 73, 55, 63, 66,  1, 55, 56])"
      ]
     },
     "execution_count": 25,
     "metadata": {},
     "output_type": "execute_result"
    }
   ],
   "source": [
    "encoded_text[:200]"
   ]
  },
  {
   "cell_type": "code",
   "execution_count": 24,
   "id": "b13be66f",
   "metadata": {},
   "outputs": [
    {
     "data": {
      "text/plain": [
       "(1198622,)"
      ]
     },
     "execution_count": 24,
     "metadata": {},
     "output_type": "execute_result"
    }
   ],
   "source": [
    "encoded_text.shape"
   ]
  },
  {
   "cell_type": "code",
   "execution_count": 27,
   "id": "b9486926",
   "metadata": {},
   "outputs": [
    {
     "name": "stdout",
     "output_type": "stream",
     "text": [
      "CHAPTER 1\n",
      "\n",
      "Loomings.\n",
      "\n",
      "\n",
      "Call me Ishmael.  Some years ago--never mind how long\n",
      "precisely--having little or no money in my purse, and nothing\n",
      "particular to interest me on shore, I thought I would sail ab\n"
     ]
    }
   ],
   "source": [
    "print(text[:200])"
   ]
  },
  {
   "cell_type": "markdown",
   "id": "66f36cad",
   "metadata": {},
   "source": [
    "### Creating Batches"
   ]
  },
  {
   "cell_type": "code",
   "execution_count": 30,
   "id": "299fa45a",
   "metadata": {},
   "outputs": [
    {
     "name": "stdout",
     "output_type": "stream",
     "text": [
      "seaward peep.  But these are all landsmen; of week days pent up in\n",
      "lath and plaster--tied to counters, nailed to benches, clinched to\n",
      "desks.  How then is this?  Are the green fields gone?  What do they\n",
      "here?\n",
      "\n",
      "But look! here come more crowds, pacing straight for the water, and\n",
      "seemingly bound for a dive.  Strange!  Nothing will content them but\n",
      "the extremest limit of the land; loitering under the shady lee of\n",
      "yonder warehouses will not suffice.  No.  They must get just as nigh\n",
      "the water as they possibly can without falling in.  And there they\n",
      "stand--miles of them--leagues.  Inlanders all, they come from lanes\n",
      "and alleys, streets and avenues--north, east, south, and west.  Yet\n",
      "here they all unite.  Tell me, does the magnetic virtue of the\n",
      "needles of the compasses of all those ships attract them thither?\n",
      "\n",
      "Once more.  Say you are in the country; in some high land of lakes.\n",
      "Take almost any path you please, and ten to one it carries you down\n",
      "in a dale, and leaves you there by a pool in the s\n"
     ]
    }
   ],
   "source": [
    "# first we choose length of the sequence from text\n",
    "print(text[2000:3000])"
   ]
  },
  {
   "cell_type": "code",
   "execution_count": 31,
   "id": "d206656b",
   "metadata": {},
   "outputs": [],
   "source": [
    "parag_len = \"\"\"\n",
    "But look! here come more crowds, pacing straight for the water, and\n",
    "seemingly bound for a dive.  Strange!  Nothing will content them but\n",
    "the extremest limit of the land; loitering under the shady lee of\n",
    "yonder warehouses will not suffice.  No.  They must get just as nigh\n",
    "the water as they possibly can without falling in.  And there they\n",
    "stand--miles of them--leagues.  Inlanders all, they come from lanes\n",
    "and alleys, streets and avenues--north, east, south, and west.  Yet\n",
    "here they all unite.  Tell me, does the magnetic virtue of the\n",
    "needles of the compasses of all those ships attract them thither?\n",
    "\"\"\""
   ]
  },
  {
   "cell_type": "code",
   "execution_count": 32,
   "id": "62ac98ed",
   "metadata": {},
   "outputs": [
    {
     "data": {
      "text/plain": [
       "605"
      ]
     },
     "execution_count": 32,
     "metadata": {},
     "output_type": "execute_result"
    }
   ],
   "source": [
    "len(parag_len)"
   ]
  },
  {
   "cell_type": "code",
   "execution_count": 33,
   "id": "d254867a",
   "metadata": {},
   "outputs": [],
   "source": [
    "sentence = \"\"\"\n",
    " Strange!  Nothing will content them but\n",
    "the extremest limit of the land; loitering under the shady lee of\n",
    "yonder warehouses will not suffice. \n",
    "\"\"\""
   ]
  },
  {
   "cell_type": "code",
   "execution_count": 34,
   "id": "b4d0f50a",
   "metadata": {},
   "outputs": [
    {
     "data": {
      "text/plain": [
       "145"
      ]
     },
     "execution_count": 34,
     "metadata": {},
     "output_type": "execute_result"
    }
   ],
   "source": [
    "len(sentence)"
   ]
  },
  {
   "cell_type": "code",
   "execution_count": 35,
   "id": "b971c5b4",
   "metadata": {},
   "outputs": [],
   "source": [
    "sequence_len = 150"
   ]
  },
  {
   "cell_type": "code",
   "execution_count": 36,
   "id": "fc944274",
   "metadata": {},
   "outputs": [],
   "source": [
    "total_number_sequence = len(text)//(sequence_len+1)"
   ]
  },
  {
   "cell_type": "code",
   "execution_count": 37,
   "id": "cb1d013d",
   "metadata": {},
   "outputs": [
    {
     "data": {
      "text/plain": [
       "7937"
      ]
     },
     "execution_count": 37,
     "metadata": {},
     "output_type": "execute_result"
    }
   ],
   "source": [
    "total_number_sequence"
   ]
  },
  {
   "cell_type": "code",
   "execution_count": 38,
   "id": "6b14a791",
   "metadata": {},
   "outputs": [],
   "source": [
    "char_dataset = tf.data.Dataset.from_tensor_slices(encoded_text)"
   ]
  },
  {
   "cell_type": "code",
   "execution_count": 42,
   "id": "4839879c",
   "metadata": {},
   "outputs": [
    {
     "name": "stdout",
     "output_type": "stream",
     "text": [
      "C\n",
      "H\n",
      "A\n",
      "P\n",
      "T\n",
      "E\n",
      "R\n",
      " \n",
      "1\n",
      "\n",
      "\n",
      "\n",
      "\n",
      "L\n",
      "o\n",
      "o\n",
      "m\n",
      "i\n",
      "n\n",
      "g\n",
      "s\n",
      ".\n",
      "\n",
      "\n",
      "\n",
      "\n",
      "\n",
      "\n",
      "C\n",
      "a\n",
      "l\n",
      "l\n",
      " \n",
      "m\n",
      "e\n",
      " \n",
      "I\n",
      "s\n",
      "h\n",
      "m\n",
      "a\n",
      "e\n",
      "l\n",
      ".\n",
      " \n",
      " \n",
      "S\n",
      "o\n",
      "m\n",
      "e\n",
      " \n",
      "y\n",
      "e\n",
      "a\n",
      "r\n",
      "s\n",
      " \n",
      "a\n",
      "g\n",
      "o\n",
      "-\n",
      "-\n",
      "n\n",
      "e\n",
      "v\n",
      "e\n",
      "r\n",
      " \n",
      "m\n",
      "i\n",
      "n\n",
      "d\n",
      " \n",
      "h\n",
      "o\n",
      "w\n",
      " \n",
      "l\n",
      "o\n",
      "n\n",
      "g\n",
      "\n",
      "\n",
      "p\n",
      "r\n",
      "e\n",
      "c\n",
      "i\n",
      "s\n",
      "e\n",
      "l\n",
      "y\n",
      "-\n",
      "-\n",
      "h\n",
      "a\n",
      "v\n",
      "i\n",
      "n\n",
      "g\n",
      " \n",
      "l\n",
      "i\n",
      "t\n",
      "t\n",
      "l\n",
      "e\n",
      " \n",
      "o\n",
      "r\n",
      " \n",
      "n\n",
      "o\n",
      " \n",
      "m\n",
      "o\n",
      "n\n",
      "e\n",
      "y\n",
      " \n",
      "i\n",
      "n\n",
      " \n",
      "m\n",
      "y\n",
      " \n",
      "p\n",
      "u\n",
      "r\n",
      "s\n",
      "e\n",
      ",\n",
      " \n",
      "a\n",
      "n\n",
      "d\n",
      " \n",
      "n\n",
      "o\n",
      "t\n",
      "h\n",
      "i\n",
      "n\n",
      "g\n",
      "\n",
      "\n",
      "p\n",
      "a\n",
      "r\n",
      "t\n",
      "i\n",
      "c\n",
      "u\n",
      "l\n",
      "a\n",
      "r\n",
      " \n",
      "t\n",
      "o\n",
      " \n",
      "i\n",
      "n\n",
      "t\n",
      "e\n",
      "r\n",
      "e\n",
      "s\n",
      "t\n",
      " \n",
      "m\n",
      "e\n",
      " \n",
      "o\n",
      "n\n",
      " \n",
      "s\n",
      "h\n",
      "o\n",
      "r\n",
      "e\n",
      ",\n",
      " \n",
      "I\n",
      " \n",
      "t\n",
      "h\n",
      "o\n",
      "u\n",
      "g\n",
      "h\n",
      "t\n",
      " \n",
      "I\n",
      " \n",
      "w\n",
      "o\n",
      "u\n",
      "l\n",
      "d\n",
      " \n",
      "s\n",
      "a\n",
      "i\n",
      "l\n",
      " \n",
      "a\n",
      "b\n"
     ]
    }
   ],
   "source": [
    "# the batch method converts these individual character calls into sequences we can feed in as a batch\n",
    "for item in char_dataset.take(200):\n",
    "    print(index_to_char[item.numpy()])"
   ]
  },
  {
   "cell_type": "code",
   "execution_count": 44,
   "id": "5d3a5ba4",
   "metadata": {},
   "outputs": [],
   "source": [
    "sequences = char_dataset.batch(sequence_len+1,drop_remainder=True) # +1 becouse it is zero indexing"
   ]
  },
  {
   "cell_type": "code",
   "execution_count": 45,
   "id": "310f7ad8",
   "metadata": {},
   "outputs": [],
   "source": [
    "# now next step is creating target text sequence, first grab the input text sequence, assign the target\n",
    "# text sequence as the input text\n",
    "# sequence shifted by one step foward and then grouped them together as tuple\n",
    "\n",
    "#seq=[1,2,3,4,5]\n",
    "def create_sequence_target(seq):\n",
    "    input_text = seq[:-1] # [1,2,3,4]\n",
    "    target_text = seq[1:] # [2,3,4,5]\n",
    "    return input_text,target_text"
   ]
  },
  {
   "cell_type": "code",
   "execution_count": 49,
   "id": "c12fa302",
   "metadata": {},
   "outputs": [],
   "source": [
    "dataset = sequences.map(create_sequence_target)"
   ]
  },
  {
   "cell_type": "code",
   "execution_count": 50,
   "id": "4c361b43",
   "metadata": {},
   "outputs": [
    {
     "name": "stdout",
     "output_type": "stream",
     "text": [
      "[28 33 26 41 45 30 43  1 14  0  0 37 69 69 67 63 68 61 73 12  0  0  0 28\n",
      " 55 66 66  1 67 59  1 34 73 62 67 55 59 66 12  1  1 44 69 67 59  1 79 59\n",
      " 55 72 73  1 55 61 69 11 11 68 59 76 59 72  1 67 63 68 58  1 62 69 77  1\n",
      " 66 69 68 61  0 70 72 59 57 63 73 59 66 79 11 11 62 55 76 63 68 61  1 66\n",
      " 63 74 74 66 59  1 69 72  1 68 69  1 67 69 68 59 79  1 63 68  1 67 79  1\n",
      " 70 75 72 73 59 10  1 55 68 58  1 68 69 74 62 63 68 61  0 70 55 72 74 63\n",
      " 57 75 66 55 72  1]\n",
      "CHAPTER 1\n",
      "\n",
      "Loomings.\n",
      "\n",
      "\n",
      "Call me Ishmael.  Some years ago--never mind how long\n",
      "precisely--having little or no money in my purse, and nothing\n",
      "particular \n",
      "\n",
      "\n",
      "[33 26 41 45 30 43  1 14  0  0 37 69 69 67 63 68 61 73 12  0  0  0 28 55\n",
      " 66 66  1 67 59  1 34 73 62 67 55 59 66 12  1  1 44 69 67 59  1 79 59 55\n",
      " 72 73  1 55 61 69 11 11 68 59 76 59 72  1 67 63 68 58  1 62 69 77  1 66\n",
      " 69 68 61  0 70 72 59 57 63 73 59 66 79 11 11 62 55 76 63 68 61  1 66 63\n",
      " 74 74 66 59  1 69 72  1 68 69  1 67 69 68 59 79  1 63 68  1 67 79  1 70\n",
      " 75 72 73 59 10  1 55 68 58  1 68 69 74 62 63 68 61  0 70 55 72 74 63 57\n",
      " 75 66 55 72  1 74]\n",
      "HAPTER 1\n",
      "\n",
      "Loomings.\n",
      "\n",
      "\n",
      "Call me Ishmael.  Some years ago--never mind how long\n",
      "precisely--having little or no money in my purse, and nothing\n",
      "particular t\n"
     ]
    }
   ],
   "source": [
    "# check the results of one batch size\n",
    "for input_text,target_text in dataset.take(1):\n",
    "    print(input_text.numpy())\n",
    "    print(\"\".join(index_to_char[input_text.numpy()]))\n",
    "    print(\"\\n\")\n",
    "    print(target_text.numpy())\n",
    "    print(\"\".join(index_to_char[target_text.numpy()]))"
   ]
  },
  {
   "cell_type": "code",
   "execution_count": 57,
   "id": "68faeeb7",
   "metadata": {},
   "outputs": [],
   "source": [
    "# Specify the batch size\n",
    "batch_size = 128"
   ]
  },
  {
   "cell_type": "code",
   "execution_count": 58,
   "id": "264c8a67",
   "metadata": {},
   "outputs": [],
   "source": [
    "buffer_size = 10000\n",
    "\n",
    "dataset=dataset.shuffle(buffer_size=buffer_size).batch(batch_size,drop_remainder=True)"
   ]
  },
  {
   "cell_type": "code",
   "execution_count": 59,
   "id": "4183a8d5",
   "metadata": {},
   "outputs": [
    {
     "data": {
      "text/plain": [
       "<BatchDataset shapes: ((128, 150), (128, 150)), types: (tf.int32, tf.int32)>"
      ]
     },
     "execution_count": 59,
     "metadata": {},
     "output_type": "execute_result"
    }
   ],
   "source": [
    "dataset"
   ]
  },
  {
   "cell_type": "markdown",
   "id": "e9311547",
   "metadata": {},
   "source": [
    "### Creating the Model"
   ]
  },
  {
   "cell_type": "code",
   "execution_count": 63,
   "id": "dc5ce4dd",
   "metadata": {},
   "outputs": [
    {
     "data": {
      "text/plain": [
       "81"
      ]
     },
     "execution_count": 63,
     "metadata": {},
     "output_type": "execute_result"
    }
   ],
   "source": [
    "# unique char size\n",
    "char_num = len(unique_char)\n",
    "char_num"
   ]
  },
  {
   "cell_type": "code",
   "execution_count": 64,
   "id": "ee8c56d0",
   "metadata": {},
   "outputs": [],
   "source": [
    "# Embedding Dimension for the embedding layer\n",
    "embed_dim = 64"
   ]
  },
  {
   "cell_type": "code",
   "execution_count": 65,
   "id": "d066b59e",
   "metadata": {},
   "outputs": [],
   "source": [
    "rnn_neurons = 1024"
   ]
  },
  {
   "cell_type": "code",
   "execution_count": 68,
   "id": "934adb33",
   "metadata": {},
   "outputs": [],
   "source": [
    "from tensorflow.keras.losses import sparse_categorical_crossentropy\n",
    "from tensorflow.keras.models import Sequential\n",
    "from tensorflow.keras.layers import Embedding,GRU,Dense"
   ]
  },
  {
   "cell_type": "code",
   "execution_count": 67,
   "id": "6cfa31f5",
   "metadata": {},
   "outputs": [],
   "source": [
    "def sparse_cat_loss(y_true,y_pred):\n",
    "    return sparse_categorical_crossentropy(y_true,y_pred,from_logits=True)"
   ]
  },
  {
   "cell_type": "code",
   "execution_count": 69,
   "id": "765a9eea",
   "metadata": {},
   "outputs": [],
   "source": [
    "def create_model(char_num,embed_dim,rnn_neurons,batch_size):\n",
    "    model = Sequential()\n",
    "    model.add(Embedding(char_num,embed_dim,batch_input_shape=[batch_size,None]))\n",
    "    model.add(GRU(rnn_neurons,return_sequences=True,stateful=True,recurrent_initializer='glorot_uniform'))\n",
    "    model.add(Dense(char_num))\n",
    "    \n",
    "    model.compile(optimizer='adam',loss=sparse_cat_loss)\n",
    "    return model"
   ]
  },
  {
   "cell_type": "code",
   "execution_count": 70,
   "id": "98a31e20",
   "metadata": {},
   "outputs": [],
   "source": [
    "model = create_model(\n",
    "    char_num=char_num,\n",
    "    embed_dim=embed_dim,\n",
    "    rnn_neurons=rnn_neurons,\n",
    "    batch_size=batch_size\n",
    ")"
   ]
  },
  {
   "cell_type": "code",
   "execution_count": 71,
   "id": "e989ada9",
   "metadata": {},
   "outputs": [
    {
     "name": "stdout",
     "output_type": "stream",
     "text": [
      "Model: \"sequential\"\n",
      "_________________________________________________________________\n",
      " Layer (type)                Output Shape              Param #   \n",
      "=================================================================\n",
      " embedding (Embedding)       (128, None, 64)           5184      \n",
      "                                                                 \n",
      " gru (GRU)                   (128, None, 1024)         3348480   \n",
      "                                                                 \n",
      " dense (Dense)               (128, None, 81)           83025     \n",
      "                                                                 \n",
      "=================================================================\n",
      "Total params: 3,436,689\n",
      "Trainable params: 3,436,689\n",
      "Non-trainable params: 0\n",
      "_________________________________________________________________\n"
     ]
    }
   ],
   "source": [
    "model.summary()"
   ]
  },
  {
   "cell_type": "markdown",
   "id": "532072e0",
   "metadata": {},
   "source": [
    "### Training the Model"
   ]
  },
  {
   "cell_type": "code",
   "execution_count": 72,
   "id": "27691dc8",
   "metadata": {},
   "outputs": [
    {
     "name": "stdout",
     "output_type": "stream",
     "text": [
      "Epoch 1/30\n",
      "62/62 [==============================] - 79s 1s/step - loss: 3.3799\n",
      "Epoch 2/30\n",
      "62/62 [==============================] - 73s 1s/step - loss: 2.6368\n",
      "Epoch 3/30\n",
      "62/62 [==============================] - 74s 1s/step - loss: 2.3788\n",
      "Epoch 4/30\n",
      "62/62 [==============================] - 73s 1s/step - loss: 2.2469\n",
      "Epoch 5/30\n",
      "62/62 [==============================] - 73s 1s/step - loss: 2.1169\n",
      "Epoch 6/30\n",
      "62/62 [==============================] - 73s 1s/step - loss: 2.0005\n",
      "Epoch 7/30\n",
      "62/62 [==============================] - 74s 1s/step - loss: 1.9017\n",
      "Epoch 8/30\n",
      "62/62 [==============================] - 75s 1s/step - loss: 1.8172\n",
      "Epoch 9/30\n",
      "62/62 [==============================] - 73s 1s/step - loss: 1.7418\n",
      "Epoch 10/30\n",
      "62/62 [==============================] - 74s 1s/step - loss: 1.6749\n",
      "Epoch 11/30\n",
      "62/62 [==============================] - 75s 1s/step - loss: 1.6197\n",
      "Epoch 12/30\n",
      "62/62 [==============================] - 73s 1s/step - loss: 1.5705\n",
      "Epoch 13/30\n",
      "62/62 [==============================] - 73s 1s/step - loss: 1.5268\n",
      "Epoch 14/30\n",
      "62/62 [==============================] - 73s 1s/step - loss: 1.4898\n",
      "Epoch 15/30\n",
      "62/62 [==============================] - 74s 1s/step - loss: 1.4555\n",
      "Epoch 16/30\n",
      "62/62 [==============================] - 74s 1s/step - loss: 1.4255\n",
      "Epoch 17/30\n",
      "62/62 [==============================] - 75s 1s/step - loss: 1.3963\n",
      "Epoch 18/30\n",
      "62/62 [==============================] - 75s 1s/step - loss: 1.3703\n",
      "Epoch 19/30\n",
      "62/62 [==============================] - 75s 1s/step - loss: 1.3457\n",
      "Epoch 20/30\n",
      "62/62 [==============================] - 75s 1s/step - loss: 1.3211\n",
      "Epoch 21/30\n",
      "62/62 [==============================] - 74s 1s/step - loss: 1.2962\n",
      "Epoch 22/30\n",
      "62/62 [==============================] - 74s 1s/step - loss: 1.2737\n",
      "Epoch 23/30\n",
      "62/62 [==============================] - 74s 1s/step - loss: 1.2500\n",
      "Epoch 24/30\n",
      "62/62 [==============================] - 74s 1s/step - loss: 1.2267\n",
      "Epoch 25/30\n",
      "62/62 [==============================] - 74s 1s/step - loss: 1.2024\n",
      "Epoch 26/30\n",
      "62/62 [==============================] - 74s 1s/step - loss: 1.1793\n",
      "Epoch 27/30\n",
      "62/62 [==============================] - 74s 1s/step - loss: 1.1557\n",
      "Epoch 28/30\n",
      "62/62 [==============================] - 74s 1s/step - loss: 1.1305\n",
      "Epoch 29/30\n",
      "62/62 [==============================] - 74s 1s/step - loss: 1.1044\n",
      "Epoch 30/30\n",
      "62/62 [==============================] - 73s 1s/step - loss: 1.0774\n"
     ]
    },
    {
     "data": {
      "text/plain": [
       "<keras.callbacks.History at 0x1c6f0ad0f70>"
      ]
     },
     "execution_count": 72,
     "metadata": {},
     "output_type": "execute_result"
    }
   ],
   "source": [
    "epochs = 30\n",
    "model.fit(dataset,epochs=epochs)"
   ]
  },
  {
   "cell_type": "code",
   "execution_count": 73,
   "id": "fc42a794",
   "metadata": {},
   "outputs": [],
   "source": [
    "loss = pd.DataFrame(model.history.history)"
   ]
  },
  {
   "cell_type": "code",
   "execution_count": 74,
   "id": "f8ac99f2",
   "metadata": {},
   "outputs": [
    {
     "data": {
      "text/plain": [
       "<AxesSubplot:>"
      ]
     },
     "execution_count": 74,
     "metadata": {},
     "output_type": "execute_result"
    },
    {
     "data": {
      "image/png": "[encoded data removed]",
      "text/plain": [
       "<Figure size 432x288 with 1 Axes>"
      ]
     },
     "metadata": {
      "needs_background": "light"
     },
     "output_type": "display_data"
    }
   ],
   "source": [
    "loss.plot()"
   ]
  },
  {
   "cell_type": "code",
   "execution_count": 86,
   "id": "4965445d",
   "metadata": {},
   "outputs": [],
   "source": [
    "def generate_text(model,start_seed,gen_size=500,temp=1.0):\n",
    "    \n",
    "    temperature = temp\n",
    "    \n",
    "    text_generator = []\n",
    "        \n",
    "    num_generate = gen_size\n",
    "    \n",
    "    input_eval = [char_to_index[i] for i in start_seed]\n",
    "    \n",
    "    input_eval = tf.expand_dims(input_eval,0)\n",
    "    \n",
    "    model.reset_states()\n",
    "    \n",
    "    for j in range(num_generate):\n",
    "        \n",
    "        predictions = model(input_eval)\n",
    "        \n",
    "        predictions = tf.squeeze(predictions,0)\n",
    "        \n",
    "        predictions = predictions/temperature\n",
    "        \n",
    "        predictions_id = tf.random.categorical(predictions,num_samples=1)[-1,0].numpy()\n",
    "        \n",
    "        input_eval = tf.expand_dims([predictions_id],0)\n",
    "        \n",
    "        text_generator.append(index_to_char[predictions_id])\n",
    "    return (start_seed+\"\".join(text_generator))   \n",
    "   "
   ]
  },
  {
   "cell_type": "code",
   "execution_count": 83,
   "id": "3e2781e4",
   "metadata": {},
   "outputs": [],
   "source": [
    "from tensorflow.keras.models import save_model,load_model"
   ]
  },
  {
   "cell_type": "code",
   "execution_count": 84,
   "id": "89118e51",
   "metadata": {},
   "outputs": [],
   "source": [
    "model.save('moby_model.h5')"
   ]
  },
  {
   "cell_type": "code",
   "execution_count": 91,
   "id": "671ac85f",
   "metadata": {},
   "outputs": [],
   "source": [
    "model = create_model(char_num,embed_dim,rnn_neurons,batch_size=1)\n",
    "\n",
    "model.load_weights('moby_model.h5')\n",
    "\n",
    "model.build(tf.TensorShape([1,None]))"
   ]
  },
  {
   "cell_type": "code",
   "execution_count": 92,
   "id": "5792937f",
   "metadata": {},
   "outputs": [
    {
     "name": "stdout",
     "output_type": "stream",
     "text": [
      "Moby\n",
      "Ohero's mouths--indolent any missens on lapid him up, and\n",
      "influenced with eatung side of which I said it over my compass.  \"Onse explail, were miles;--but that's too lut the captain as\n",
      "an infisid, bothing of\n",
      "such a flame of four or form, man; whot use their distance, ahay wor to the bows of Porpoise.  In those things haw Quohog thought without you; well, so down as much,'s a\n",
      "dranto conclude yourself; cursed from off sudden, and on um jadge to come\n",
      "from bidding at last-men, two harpless annumanter in the lower of the Steed Cattain was somewhat living aloft\n",
      "crossed the side fixed, whose vicinity of\n",
      "resorning this motion\n",
      "of one denieemen, descended in any bereast\n",
      "he extent.\n",
      "\n",
      "As for those disgains the side, and not use you so cloced and rough the diencely doablier, duny do they leave our innerpose for the nose of this fine; ropeptian English froming through my soul stered worshipped, but Little man thus more out of ye, but that a\n",
      "Custern of Weale, rounded Rathat Captain one quofog them of\n"
     ]
    }
   ],
   "source": [
    "print(generate_text(model,'Moby',gen_size=1000))"
   ]
  },
  {
   "cell_type": "code",
   "execution_count": null,
   "id": "1f436b88",
   "metadata": {},
   "outputs": [],
   "source": []
  }
 ],
 "metadata": {
  "kernelspec": {
   "display_name": "Python 3.9 (tensorflowGPU)",
   "language": "python",
   "name": "tensorflowgpu"
  },
  "language_info": {
   "codemirror_mode": {
    "name": "ipython",
    "version": 3
   },
   "file_extension": ".py",
   "mimetype": "text/x-python",
   "name": "python",
   "nbconvert_exporter": "python",
   "pygments_lexer": "ipython3",
   "version": "3.9.7"
  }
 },
 "nbformat": 4,
 "nbformat_minor": 5
}
